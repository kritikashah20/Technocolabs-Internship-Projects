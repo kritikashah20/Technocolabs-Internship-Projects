{
  "nbformat": 4,
  "nbformat_minor": 0,
  "metadata": {
    "colab": {
      "name": "Toxic_Comment_Classification.ipynb",
      "provenance": [],
      "collapsed_sections": []
    },
    "kernelspec": {
      "name": "python3",
      "display_name": "Python 3"
    }
  },
  "cells": [
    {
      "cell_type": "markdown",
      "metadata": {
        "id": "5u6Ti2XxjvQL"
      },
      "source": [
        "###Step 1:  Exploratory Data Analysis"
      ]
    },
    {
      "cell_type": "code",
      "metadata": {
        "id": "PaJOdw1Jjp7k"
      },
      "source": [
        "# import the necessary libraries\n",
        "import pandas as pd\n",
        "import matplotlib.pyplot as plt\n",
        "import seaborn as sns"
      ],
      "execution_count": 17,
      "outputs": []
    },
    {
      "cell_type": "code",
      "metadata": {
        "id": "5zWdFmc7kbZy",
        "outputId": "ed28a114-4119-4257-e001-9b49120f7369",
        "colab": {
          "base_uri": "https://localhost:8080/",
          "height": 229
        }
      },
      "source": [
        "# Load the dataset\n",
        "data = pd.read_csv('train.csv')\n",
        "print(\"Rows in train.csv = \", data.shape[0])\n",
        "print(\"Columns in train.csv = \", data.shape[1])\n",
        "\n",
        "data.head()"
      ],
      "execution_count": 18,
      "outputs": [
        {
          "output_type": "stream",
          "text": [
            "Rows in train.csv =  159571\n",
            "Columns in train.csv =  8\n"
          ],
          "name": "stdout"
        },
        {
          "output_type": "execute_result",
          "data": {
            "text/html": [
              "<div>\n",
              "<style scoped>\n",
              "    .dataframe tbody tr th:only-of-type {\n",
              "        vertical-align: middle;\n",
              "    }\n",
              "\n",
              "    .dataframe tbody tr th {\n",
              "        vertical-align: top;\n",
              "    }\n",
              "\n",
              "    .dataframe thead th {\n",
              "        text-align: right;\n",
              "    }\n",
              "</style>\n",
              "<table border=\"1\" class=\"dataframe\">\n",
              "  <thead>\n",
              "    <tr style=\"text-align: right;\">\n",
              "      <th></th>\n",
              "      <th>id</th>\n",
              "      <th>comment_text</th>\n",
              "      <th>toxic</th>\n",
              "      <th>severe_toxic</th>\n",
              "      <th>obscene</th>\n",
              "      <th>threat</th>\n",
              "      <th>insult</th>\n",
              "      <th>identity_hate</th>\n",
              "    </tr>\n",
              "  </thead>\n",
              "  <tbody>\n",
              "    <tr>\n",
              "      <th>0</th>\n",
              "      <td>0000997932d777bf</td>\n",
              "      <td>Explanation\\nWhy the edits made under my usern...</td>\n",
              "      <td>0</td>\n",
              "      <td>0</td>\n",
              "      <td>0</td>\n",
              "      <td>0</td>\n",
              "      <td>0</td>\n",
              "      <td>0</td>\n",
              "    </tr>\n",
              "    <tr>\n",
              "      <th>1</th>\n",
              "      <td>000103f0d9cfb60f</td>\n",
              "      <td>D'aww! He matches this background colour I'm s...</td>\n",
              "      <td>0</td>\n",
              "      <td>0</td>\n",
              "      <td>0</td>\n",
              "      <td>0</td>\n",
              "      <td>0</td>\n",
              "      <td>0</td>\n",
              "    </tr>\n",
              "    <tr>\n",
              "      <th>2</th>\n",
              "      <td>000113f07ec002fd</td>\n",
              "      <td>Hey man, I'm really not trying to edit war. It...</td>\n",
              "      <td>0</td>\n",
              "      <td>0</td>\n",
              "      <td>0</td>\n",
              "      <td>0</td>\n",
              "      <td>0</td>\n",
              "      <td>0</td>\n",
              "    </tr>\n",
              "    <tr>\n",
              "      <th>3</th>\n",
              "      <td>0001b41b1c6bb37e</td>\n",
              "      <td>\"\\nMore\\nI can't make any real suggestions on ...</td>\n",
              "      <td>0</td>\n",
              "      <td>0</td>\n",
              "      <td>0</td>\n",
              "      <td>0</td>\n",
              "      <td>0</td>\n",
              "      <td>0</td>\n",
              "    </tr>\n",
              "    <tr>\n",
              "      <th>4</th>\n",
              "      <td>0001d958c54c6e35</td>\n",
              "      <td>You, sir, are my hero. Any chance you remember...</td>\n",
              "      <td>0</td>\n",
              "      <td>0</td>\n",
              "      <td>0</td>\n",
              "      <td>0</td>\n",
              "      <td>0</td>\n",
              "      <td>0</td>\n",
              "    </tr>\n",
              "  </tbody>\n",
              "</table>\n",
              "</div>"
            ],
            "text/plain": [
              "                 id  ... identity_hate\n",
              "0  0000997932d777bf  ...             0\n",
              "1  000103f0d9cfb60f  ...             0\n",
              "2  000113f07ec002fd  ...             0\n",
              "3  0001b41b1c6bb37e  ...             0\n",
              "4  0001d958c54c6e35  ...             0\n",
              "\n",
              "[5 rows x 8 columns]"
            ]
          },
          "metadata": {
            "tags": []
          },
          "execution_count": 18
        }
      ]
    },
    {
      "cell_type": "code",
      "metadata": {
        "id": "b95506qtp71C",
        "outputId": "829148b5-6288-4416-dc27-95b81839e53f",
        "colab": {
          "base_uri": "https://localhost:8080/",
          "height": 269
        }
      },
      "source": [
        "data.info()"
      ],
      "execution_count": 19,
      "outputs": [
        {
          "output_type": "stream",
          "text": [
            "<class 'pandas.core.frame.DataFrame'>\n",
            "RangeIndex: 159571 entries, 0 to 159570\n",
            "Data columns (total 8 columns):\n",
            " #   Column         Non-Null Count   Dtype \n",
            "---  ------         --------------   ----- \n",
            " 0   id             159571 non-null  object\n",
            " 1   comment_text   159571 non-null  object\n",
            " 2   toxic          159571 non-null  int64 \n",
            " 3   severe_toxic   159571 non-null  int64 \n",
            " 4   obscene        159571 non-null  int64 \n",
            " 5   threat         159571 non-null  int64 \n",
            " 6   insult         159571 non-null  int64 \n",
            " 7   identity_hate  159571 non-null  int64 \n",
            "dtypes: int64(6), object(2)\n",
            "memory usage: 9.7+ MB\n"
          ],
          "name": "stdout"
        }
      ]
    },
    {
      "cell_type": "code",
      "metadata": {
        "id": "vfWBIb81rWYq",
        "outputId": "ad227b06-07ad-4dcc-b827-51281dde6825",
        "colab": {
          "base_uri": "https://localhost:8080/",
          "height": 168
        }
      },
      "source": [
        "# checking the presence of any null value in the data set\n",
        "data.isna().sum()"
      ],
      "execution_count": 20,
      "outputs": [
        {
          "output_type": "execute_result",
          "data": {
            "text/plain": [
              "id               0\n",
              "comment_text     0\n",
              "toxic            0\n",
              "severe_toxic     0\n",
              "obscene          0\n",
              "threat           0\n",
              "insult           0\n",
              "identity_hate    0\n",
              "dtype: int64"
            ]
          },
          "metadata": {
            "tags": []
          },
          "execution_count": 20
        }
      ]
    },
    {
      "cell_type": "markdown",
      "metadata": {
        "id": "hEPvbHAqyvfP"
      },
      "source": [
        "* No null comments to be found"
      ]
    },
    {
      "cell_type": "code",
      "metadata": {
        "id": "ps82wGdkpHAU",
        "outputId": "db18f0c4-d5ca-4ee9-b247-26fb96c02bf3",
        "colab": {
          "base_uri": "https://localhost:8080/",
          "height": 242
        }
      },
      "source": [
        "# Calculating the total count of each category comments\n",
        "\n",
        "#dropping id and comment_text columns\n",
        "data_category_count = data.drop(['id', 'comment_text'], axis=1)\n",
        "\n",
        "counts = []\n",
        "categories = list(data_category_count.columns.values)\n",
        "print(categories)\n",
        "for i in categories:\n",
        "  counts.append((i, data_category_count[i].sum()))\n",
        "df_stats = pd.DataFrame(counts, columns =['category', 'count'])\n",
        "df_stats"
      ],
      "execution_count": 21,
      "outputs": [
        {
          "output_type": "stream",
          "text": [
            "['toxic', 'severe_toxic', 'obscene', 'threat', 'insult', 'identity_hate']\n"
          ],
          "name": "stdout"
        },
        {
          "output_type": "execute_result",
          "data": {
            "text/html": [
              "<div>\n",
              "<style scoped>\n",
              "    .dataframe tbody tr th:only-of-type {\n",
              "        vertical-align: middle;\n",
              "    }\n",
              "\n",
              "    .dataframe tbody tr th {\n",
              "        vertical-align: top;\n",
              "    }\n",
              "\n",
              "    .dataframe thead th {\n",
              "        text-align: right;\n",
              "    }\n",
              "</style>\n",
              "<table border=\"1\" class=\"dataframe\">\n",
              "  <thead>\n",
              "    <tr style=\"text-align: right;\">\n",
              "      <th></th>\n",
              "      <th>category</th>\n",
              "      <th>count</th>\n",
              "    </tr>\n",
              "  </thead>\n",
              "  <tbody>\n",
              "    <tr>\n",
              "      <th>0</th>\n",
              "      <td>toxic</td>\n",
              "      <td>15294</td>\n",
              "    </tr>\n",
              "    <tr>\n",
              "      <th>1</th>\n",
              "      <td>severe_toxic</td>\n",
              "      <td>1595</td>\n",
              "    </tr>\n",
              "    <tr>\n",
              "      <th>2</th>\n",
              "      <td>obscene</td>\n",
              "      <td>8449</td>\n",
              "    </tr>\n",
              "    <tr>\n",
              "      <th>3</th>\n",
              "      <td>threat</td>\n",
              "      <td>478</td>\n",
              "    </tr>\n",
              "    <tr>\n",
              "      <th>4</th>\n",
              "      <td>insult</td>\n",
              "      <td>7877</td>\n",
              "    </tr>\n",
              "    <tr>\n",
              "      <th>5</th>\n",
              "      <td>identity_hate</td>\n",
              "      <td>1405</td>\n",
              "    </tr>\n",
              "  </tbody>\n",
              "</table>\n",
              "</div>"
            ],
            "text/plain": [
              "        category  count\n",
              "0          toxic  15294\n",
              "1   severe_toxic   1595\n",
              "2        obscene   8449\n",
              "3         threat    478\n",
              "4         insult   7877\n",
              "5  identity_hate   1405"
            ]
          },
          "metadata": {
            "tags": []
          },
          "execution_count": 21
        }
      ]
    },
    {
      "cell_type": "code",
      "metadata": {
        "id": "NuAAGpuHvItp",
        "outputId": "abccb2f2-e8f3-4cc5-ad9e-a63149e502e2",
        "colab": {
          "base_uri": "https://localhost:8080/",
          "height": 302
        }
      },
      "source": [
        "# The categorywise bar plot\n",
        "sns.set(style=\"whitegrid\")\n",
        "sns.barplot(x='category', y='count', data= df_stats, palette=\"summer\")\n",
        "plt.title(\"Number of comments under each tag\")\n",
        "plt.show()"
      ],
      "execution_count": 22,
      "outputs": [
        {
          "output_type": "display_data",
          "data": {
            "image/png": "[encoded data removed]",
            "text/plain": [
              "<Figure size 432x288 with 1 Axes>"
            ]
          },
          "metadata": {
            "tags": []
          }
        }
      ]
    },
    {
      "cell_type": "markdown",
      "metadata": {
        "id": "2bh7PiG1vwQA"
      },
      "source": [
        "* This shows that the number of comments in each category is **extremely unbalanced.**\n",
        "\n",
        "* Next we check whether each comment has been tagged or not ?"
      ]
    },
    {
      "cell_type": "code",
      "metadata": {
        "id": "XiC33GUgwBEs",
        "outputId": "57a10413-f7d7-4edb-ed84-71192828209c",
        "colab": {
          "base_uri": "https://localhost:8080/",
          "height": 315
        }
      },
      "source": [
        "# Counting the number of comments having multiple labels\n",
        "rowsums = data_category_count.iloc[:,:].sum(axis=1)\n",
        "valcount = rowsums.value_counts()\n",
        "valcount.plot.bar()\n",
        "plt.xlabel(\"No. of labels tagged to\")\n",
        "plt.ylabel(\"No. of comments\")\n",
        "plt.title(\"Comments having multiple labels\")\n",
        "plt.show()\n",
        "\n",
        "print(valcount[0]*100/sum(valcount), \"% comments have no labels associated to them.\")"
      ],
      "execution_count": 23,
      "outputs": [
        {
          "output_type": "display_data",
          "data": {
            "image/png": "[encoded data removed]",
            "text/plain": [
              "<Figure size 432x288 with 1 Axes>"
            ]
          },
          "metadata": {
            "tags": []
          }
        },
        {
          "output_type": "stream",
          "text": [
            "89.83211235124176 % comments have no labels associated to them.\n"
          ],
          "name": "stdout"
        }
      ]
    },
    {
      "cell_type": "markdown",
      "metadata": {
        "id": "HpnbXEI9x0nP"
      },
      "source": [
        "* This shows that a large amount of entire dataset is tagged to none of the six labels."
      ]
    },
    {
      "cell_type": "code",
      "metadata": {
        "id": "00LsRR6XyORa",
        "outputId": "14c80f80-bb07-473c-f64b-b97d62296ea4",
        "colab": {
          "base_uri": "https://localhost:8080/",
          "height": 354
        }
      },
      "source": [
        "length = data.comment_text.str.len()\n",
        "sns.distplot(length)\n",
        "plt.title(\"Distribution of comment length\")\n",
        "plt.show()"
      ],
      "execution_count": 24,
      "outputs": [
        {
          "output_type": "stream",
          "text": [
            "/usr/local/lib/python3.6/dist-packages/seaborn/distributions.py:2551: FutureWarning: `distplot` is a deprecated function and will be removed in a future version. Please adapt your code to use either `displot` (a figure-level function with similar flexibility) or `histplot` (an axes-level function for histograms).\n",
            "  warnings.warn(msg, FutureWarning)\n"
          ],
          "name": "stderr"
        },
        {
          "output_type": "display_data",
          "data": {
            "image/png": "[encoded data removed]",
            "text/plain": [
              "<Figure size 432x288 with 1 Axes>"
            ]
          },
          "metadata": {
            "tags": []
          }
        }
      ]
    },
    {
      "cell_type": "markdown",
      "metadata": {
        "id": "L3hh4tskyds3"
      },
      "source": [
        "* We find that most of the comments are of length less than 500, while a few reach the length of 5000 as well."
      ]
    },
    {
      "cell_type": "markdown",
      "metadata": {
        "id": "AwEYldGWzffm"
      },
      "source": [
        "* WordCloud representation of most used words in each category of comments."
      ]
    },
    {
      "cell_type": "code",
      "metadata": {
        "id": "SH78sALszgIy"
      },
      "source": [
        "# from wordcloud import WordCloud,STOPWORDS\n",
        "# plt.figure(figsize=(40,25))\n",
        "# # clean\n",
        "# subset = data[data.clear==True]\n",
        "# text = subset.comment_text.values\n",
        "# cloud_toxic = WordCloud(\n",
        "#                           stopwords=STOPWORDS,\n",
        "#                           background_color='black',\n",
        "#                           collocations=False,\n",
        "#                           width=2500,\n",
        "#                           height=1800\n",
        "#                          ).generate(\" \".join(text))\n",
        "# plt.axis('off')\n",
        "# plt.title(\"Clean\",fontsize=40)\n",
        "# plt.imshow(cloud_clean)"
      ],
      "execution_count": 25,
      "outputs": []
    },
    {
      "cell_type": "markdown",
      "metadata": {
        "id": "0ZM7YBeOy8k-"
      },
      "source": [
        "###Step 2:  Data Preprocessing"
      ]
    },
    {
      "cell_type": "markdown",
      "metadata": {
        "id": "yp5iuoeB7Ma8"
      },
      "source": [
        "* Clean the text, convert weren't to were not and so on.."
      ]
    },
    {
      "cell_type": "markdown",
      "metadata": {
        "id": "y3jICRFB-HYc"
      },
      "source": [
        "* Checking correlation between various label properties"
      ]
    },
    {
      "cell_type": "code",
      "metadata": {
        "id": "xM7qd6c7-I5N",
        "outputId": "22b6ceee-47b4-4c2c-c9ac-b67ec9a30a9c",
        "colab": {
          "base_uri": "https://localhost:8080/",
          "height": 335
        }
      },
      "source": [
        "sns.heatmap(data.corr(), square=True, cmap='nipy_spectral')\n",
        "plt.show()"
      ],
      "execution_count": 26,
      "outputs": [
        {
          "output_type": "display_data",
          "data": {
            "image/png": "[encoded data removed]",
            "text/plain": [
              "<Figure size 432x288 with 2 Axes>"
            ]
          },
          "metadata": {
            "tags": []
          }
        }
      ]
    },
    {
      "cell_type": "code",
      "metadata": {
        "id": "Dcdvy8sr-oBl"
      },
      "source": [
        "import nltk\n",
        "from nltk.corpus import stopwords\n",
        "from nltk.stem.snowball import SnowballStemmer\n",
        "import re\n",
        "import sys\n",
        "import warnings\n",
        "df = data\n",
        "if not sys.warnoptions:\n",
        "    warnings.simplefilter(\"ignore\")\n",
        "def cleanHtml(sentence):\n",
        "    cleanr = re.compile('<.*?>')\n",
        "    cleantext = re.sub(cleanr, ' ', str(sentence))\n",
        "    return cleantext\n",
        "def cleanPunc(sentence): #function to clean the word of any punctuation or special characters\n",
        "    cleaned = re.sub(r'[?|!|\\'|\"|#]',r'',sentence)\n",
        "    cleaned = re.sub(r'[.|,|)|(|\\|/]',r' ',cleaned)\n",
        "    cleaned = cleaned.strip()\n",
        "    cleaned = cleaned.replace(\"\\n\",\" \")\n",
        "    return cleaned\n",
        "def keepAlpha(sentence):\n",
        "    alpha_sent = \"\"\n",
        "    for word in sentence.split():\n",
        "        alpha_word = re.sub('[^a-z A-Z]+', ' ', word)\n",
        "        alpha_sent += alpha_word\n",
        "        alpha_sent += \" \"\n",
        "    alpha_sent = alpha_sent.strip()\n",
        "    return alpha_sent\n",
        "df['comment_text'] = df['comment_text'].str.lower()\n",
        "df['comment_text'] = df['comment_text'].apply(cleanHtml)\n",
        "df['comment_text'] = df['comment_text'].apply(cleanPunc)\n",
        "df['comment_text'] = df['comment_text'].apply(keepAlpha)"
      ],
      "execution_count": 27,
      "outputs": []
    },
    {
      "cell_type": "markdown",
      "metadata": {
        "id": "JbiO7lzD_1SJ"
      },
      "source": [
        "* Removing stopwords"
      ]
    },
    {
      "cell_type": "code",
      "metadata": {
        "id": "_n7fV9rP_0P2",
        "outputId": "6295a768-5a8d-40f8-8875-5aadd126ca1f",
        "colab": {
          "base_uri": "https://localhost:8080/",
          "height": 50
        }
      },
      "source": [
        "nltk.download('stopwords')\n",
        "stop_words = set(stopwords.words('english'))\n",
        "stop_words.update(['zero','one','two','three','four','five','six','seven','eight','nine','ten','may','also','across','among','beside','however','yet','within'])\n",
        "re_stop_words = re.compile(r\"\\b(\" + \"|\".join(stop_words) + \")\\\\W\", re.I)\n",
        "def removeStopWords(sentence):\n",
        "    global re_stop_words\n",
        "    return re_stop_words.sub(\" \", sentence)\n",
        "df['comment_text'] = df['comment_text'].apply(removeStopWords)"
      ],
      "execution_count": 28,
      "outputs": [
        {
          "output_type": "stream",
          "text": [
            "[nltk_data] Downloading package stopwords to /root/nltk_data...\n",
            "[nltk_data]   Unzipping corpora/stopwords.zip.\n"
          ],
          "name": "stdout"
        }
      ]
    },
    {
      "cell_type": "markdown",
      "metadata": {
        "id": "nRStRv8rAeqY"
      },
      "source": [
        "* Next we do stemming\n",
        "\n",
        "This is basically transforming words with roughly the same semantics to one standard form.\n",
        "Ex. - amusing, amusement to a stem amus"
      ]
    },
    {
      "cell_type": "code",
      "metadata": {
        "id": "fZhE096qAhYI"
      },
      "source": [
        "stemmer = SnowballStemmer(\"english\")\n",
        "def stemming(sentence):\n",
        "    stemSentence = \"\"\n",
        "    for word in sentence.split():\n",
        "        stem = stemmer.stem(word)\n",
        "        stemSentence += stem\n",
        "        stemSentence += \" \"\n",
        "    stemSentence = stemSentence.strip()\n",
        "    return stemSentence\n",
        "df['comment_text'] = df['comment_text'].apply(stemming)"
      ],
      "execution_count": 29,
      "outputs": []
    },
    {
      "cell_type": "markdown",
      "metadata": {
        "id": "MkzU6822EAwz"
      },
      "source": [
        "* The TF-IDF Vectorizer"
      ]
    },
    {
      "cell_type": "code",
      "metadata": {
        "id": "JnXOj6ysD-Ea"
      },
      "source": [
        "# from sklearn.model_selection import train_test_split\n",
        "# train, test = train_test_split(df, random_state=42, test_size=0.30, shuffle=True)\n",
        "# from sklearn.feature_extraction.text import TfidfVectorizer\n",
        "# vectorizer = TfidfVectorizer(strip_accents='unicode', analyzer='word', ngram_range=(1,3), norm='l2')\n",
        "# vectorizer.fit(train)\n",
        "# vectorizer.fit(test)\n",
        "# x_train = vectorizer.transform(train)\n",
        "# y_train = train.drop(labels = ['id','comment_text'], axis=1)\n",
        "# x_test = vectorizer.transform(test)\n",
        "# y_test = test.drop(labels = ['id','comment_text'], axis=1)"
      ],
      "execution_count": 30,
      "outputs": []
    },
    {
      "cell_type": "markdown",
      "metadata": {
        "id": "xqgoJFj0Ejl6"
      },
      "source": [
        "###Step 3:  Multi-Label Classification Techniques"
      ]
    },
    {
      "cell_type": "code",
      "metadata": {
        "id": "qk9eatHvEf_g"
      },
      "source": [
        "labels = ['toxic', 'severe_toxic', 'obscene', 'threat', 'insult', 'identity_hate']"
      ],
      "execution_count": 31,
      "outputs": []
    },
    {
      "cell_type": "code",
      "metadata": {
        "id": "nMVF-32XFMTe"
      },
      "source": [
        "from sklearn.model_selection import train_test_split\n",
        "train, test = train_test_split(df, test_size=0.33, random_state=42, shuffle=True)"
      ],
      "execution_count": 34,
      "outputs": []
    },
    {
      "cell_type": "code",
      "metadata": {
        "id": "kBr4zOhPFQCE",
        "outputId": "95599b18-b747-4e5c-c6d3-f65a20c12211",
        "colab": {
          "base_uri": "https://localhost:8080/",
          "height": 34
        }
      },
      "source": [
        "train.shape, test.shape"
      ],
      "execution_count": 35,
      "outputs": [
        {
          "output_type": "execute_result",
          "data": {
            "text/plain": [
              "((106912, 8), (52659, 8))"
            ]
          },
          "metadata": {
            "tags": []
          },
          "execution_count": 35
        }
      ]
    },
    {
      "cell_type": "code",
      "metadata": {
        "id": "2taRo7oVFS1Y"
      },
      "source": [
        "X_train = train['comment_text']\n",
        "X_test = test['comment_text']"
      ],
      "execution_count": 36,
      "outputs": []
    },
    {
      "cell_type": "markdown",
      "metadata": {
        "id": "jRTIiJ49Fety"
      },
      "source": [
        "### Machine Learning Pipeline"
      ]
    },
    {
      "cell_type": "code",
      "metadata": {
        "id": "AINGDxAQFX0t"
      },
      "source": [
        "accuracies = [[],[],[]]"
      ],
      "execution_count": 37,
      "outputs": []
    },
    {
      "cell_type": "markdown",
      "metadata": {
        "id": "DR9SxpWnFikp"
      },
      "source": [
        "### 1. Multinomial Naive Bayes"
      ]
    },
    {
      "cell_type": "code",
      "metadata": {
        "id": "JSTIHsMMFmAy"
      },
      "source": [
        "from sklearn.naive_bayes import MultinomialNB\n",
        "from sklearn.feature_extraction.text import CountVectorizer\n",
        "from sklearn.feature_extraction.text import TfidfTransformer\n",
        "cvec = CountVectorizer()\n",
        "tvec = TfidfTransformer()\n",
        "model1 = MultinomialNB()"
      ],
      "execution_count": 38,
      "outputs": []
    },
    {
      "cell_type": "code",
      "metadata": {
        "id": "5VU4fOBHFoL-"
      },
      "source": [
        "X_train = tvec.fit_transform(cvec.fit_transform(X_train))\n",
        "X_test = tvec.transform(cvec.transform(X_test))"
      ],
      "execution_count": 39,
      "outputs": []
    },
    {
      "cell_type": "code",
      "metadata": {
        "id": "QkTqMbGoFqMj",
        "outputId": "fb3a7959-72a3-4386-a03c-586d774df35b",
        "colab": {
          "base_uri": "https://localhost:8080/",
          "height": 34
        }
      },
      "source": [
        "X_train.shape, X_test.shape"
      ],
      "execution_count": 40,
      "outputs": [
        {
          "output_type": "execute_result",
          "data": {
            "text/plain": [
              "((106912, 107032), (52659, 107032))"
            ]
          },
          "metadata": {
            "tags": []
          },
          "execution_count": 40
        }
      ]
    },
    {
      "cell_type": "code",
      "metadata": {
        "id": "A9Sw0qHMFxwf",
        "outputId": "6783a5dc-e17d-4284-b73d-55402a30e602",
        "colab": {
          "base_uri": "https://localhost:8080/",
          "height": 118
        }
      },
      "source": [
        "for category in labels:\n",
        "    model1.fit(X_train, train[category])\n",
        "    accuracy = model1.score(X_test, test[category])\n",
        "    accuracies[0].append(accuracy)\n",
        "    print(\"Accuracy For {0} Class Is {1}%\".format(category,round(accuracy*100,2)))"
      ],
      "execution_count": 41,
      "outputs": [
        {
          "output_type": "stream",
          "text": [
            "Accuracy For toxic Class Is 92.09%\n",
            "Accuracy For severe_toxic Class Is 99.0%\n",
            "Accuracy For obscene Class Is 95.17%\n",
            "Accuracy For threat Class Is 99.71%\n",
            "Accuracy For insult Class Is 95.2%\n",
            "Accuracy For identity_hate Class Is 99.11%\n"
          ],
          "name": "stdout"
        }
      ]
    },
    {
      "cell_type": "markdown",
      "metadata": {
        "id": "cmDB9fkqG1Mf"
      },
      "source": [
        "###2. Linear Support Vector Classifier"
      ]
    },
    {
      "cell_type": "code",
      "metadata": {
        "id": "c1z5umHFGXP4",
        "outputId": "6e0ba1c7-a54e-4181-95b1-7b0fa590208b",
        "colab": {
          "base_uri": "https://localhost:8080/",
          "height": 118
        }
      },
      "source": [
        "from sklearn.svm import LinearSVC\n",
        "model2 = LinearSVC()\n",
        "for category in labels:\n",
        "    model2.fit(X_train, train[category])\n",
        "    accuracy = model2.score(X_test, test[category])\n",
        "    accuracies[1].append(accuracy)\n",
        "    print(\"Accuracy For {0} Class Is {1}%\".format(category,round(accuracy*100,2)))\n"
      ],
      "execution_count": 42,
      "outputs": [
        {
          "output_type": "stream",
          "text": [
            "Accuracy For toxic Class Is 96.04%\n",
            "Accuracy For severe_toxic Class Is 99.06%\n",
            "Accuracy For obscene Class Is 97.9%\n",
            "Accuracy For threat Class Is 99.75%\n",
            "Accuracy For insult Class Is 97.09%\n",
            "Accuracy For identity_hate Class Is 99.23%\n"
          ],
          "name": "stdout"
        }
      ]
    },
    {
      "cell_type": "markdown",
      "metadata": {
        "id": "cqfjRMr9HvrP"
      },
      "source": [
        "### 3. Logistic Regression Classifier"
      ]
    },
    {
      "cell_type": "code",
      "metadata": {
        "id": "7ZBb0IEdHkC7",
        "outputId": "9253ea85-3c35-4f12-82d5-1f49bc847a1e",
        "colab": {
          "base_uri": "https://localhost:8080/",
          "height": 118
        }
      },
      "source": [
        "from sklearn.linear_model import LogisticRegression\n",
        "model3 = LogisticRegression(n_jobs=1, solver='liblinear')\n",
        "for category in labels:\n",
        "    model3.fit(X_train, train[category])\n",
        "    accuracy = model3.score(X_test, test[category])\n",
        "    accuracies[2].append(accuracy)\n",
        "    print(\"Accuracy For {0} Class Is {1}%\".format(category,round(accuracy*100,2)))\n"
      ],
      "execution_count": 43,
      "outputs": [
        {
          "output_type": "stream",
          "text": [
            "Accuracy For toxic Class Is 95.6%\n",
            "Accuracy For severe_toxic Class Is 99.08%\n",
            "Accuracy For obscene Class Is 97.72%\n",
            "Accuracy For threat Class Is 99.74%\n",
            "Accuracy For insult Class Is 97.0%\n",
            "Accuracy For identity_hate Class Is 99.19%\n"
          ],
          "name": "stdout"
        }
      ]
    },
    {
      "cell_type": "code",
      "metadata": {
        "id": "4Q1xQECvH1D6",
        "outputId": "981ed24f-4f59-4232-9a13-7f99c5a81f6c",
        "colab": {
          "base_uri": "https://localhost:8080/",
          "height": 322
        }
      },
      "source": [
        "# Plotting accuracies of different classifiers\n",
        "import numpy as np\n",
        "\n",
        "accuracies = pd.DataFrame(accuracies)\n",
        "fig = accuracies.plot.bar(figsize=(16, 5), grid=True)\n",
        "plt.xticks(np.arange(3),('Multinomial Naive Bayes','Linear Support Vector Classifier','Logistic Regression'),rotation=0)\n",
        "plt.legend(labels)\n",
        "plt.show()"
      ],
      "execution_count": 44,
      "outputs": [
        {
          "output_type": "display_data",
          "data": {
            "image/png": "[encoded data removed]",
            "text/plain": [
              "<Figure size 1152x360 with 1 Axes>"
            ]
          },
          "metadata": {
            "tags": []
          }
        }
      ]
    },
    {
      "cell_type": "code",
      "metadata": {
        "id": "cmQc3Wf2ID6k",
        "outputId": "a027b9f5-0fee-4bd3-b507-d7548a3c1820",
        "colab": {
          "base_uri": "https://localhost:8080/",
          "height": 67
        }
      },
      "source": [
        "for i in range(3):\n",
        "    print(\"Model -\",i+1,\"-> Aggregate Accuracy ->\",np.mean(accuracies.iloc[i,:]))"
      ],
      "execution_count": 45,
      "outputs": [
        {
          "output_type": "stream",
          "text": [
            "Model - 1 -> Aggregate Accuracy -> 0.9671281262462257\n",
            "Model - 2 -> Aggregate Accuracy -> 0.9818043132861113\n",
            "Model - 3 -> Aggregate Accuracy -> 0.9805604613329789\n"
          ],
          "name": "stdout"
        }
      ]
    },
    {
      "cell_type": "markdown",
      "metadata": {
        "id": "hzTozCXII9k_"
      },
      "source": [
        "* We find that out of the 3 models **Linear SVC** proves  to be the best."
      ]
    },
    {
      "cell_type": "markdown",
      "metadata": {
        "id": "whnt6VDIJNjf"
      },
      "source": [
        "###Step 4:  Multi-Label Classification Techniques\n",
        "\n",
        "* Model Chosen = Linear SVC\n",
        "\n",
        "* Vectoriser = TFIDF + CountVectorizer"
      ]
    },
    {
      "cell_type": "code",
      "metadata": {
        "id": "KNJmz93RJEVc"
      },
      "source": [
        "X_test = pd.read_csv('test.csv')\n",
        "y_test = pd.read_csv('test_labels.csv')\n",
        "sample = pd.read_csv('sample_submission.csv')"
      ],
      "execution_count": 48,
      "outputs": []
    },
    {
      "cell_type": "code",
      "metadata": {
        "id": "fvYtzkxzKbnr",
        "outputId": "2d92360a-0bbf-431a-d292-f0511a9c9f23",
        "colab": {
          "base_uri": "https://localhost:8080/",
          "height": 50
        }
      },
      "source": [
        "print(\"Total training data points:\",len(train))\n",
        "print(\"Total testing data points:\",len(X_test))"
      ],
      "execution_count": 49,
      "outputs": [
        {
          "output_type": "stream",
          "text": [
            "Total training data points: 106912\n",
            "Total testing data points: 153164\n"
          ],
          "name": "stdout"
        }
      ]
    },
    {
      "cell_type": "code",
      "metadata": {
        "id": "6790SKX1Kisp"
      },
      "source": [
        "X_train_vec = tvec.fit_transform(cvec.fit_transform(train['comment_text']))\n",
        "X_test_vec = tvec.transform(cvec.transform(X_test['comment_text']))"
      ],
      "execution_count": 50,
      "outputs": []
    },
    {
      "cell_type": "code",
      "metadata": {
        "id": "uQE_1LPfKyWR",
        "outputId": "84a5405a-0472-4423-8dac-e3fdbe779aac",
        "colab": {
          "base_uri": "https://localhost:8080/",
          "height": 118
        }
      },
      "source": [
        "from sklearn.svm import LinearSVC\n",
        "final_model = LinearSVC()\n",
        "predictions = []\n",
        "accuracy_list=[]\n",
        "for cat in labels:\n",
        "    final_model.fit(X_train_vec, train[cat]) #fitting the model\n",
        "    y_pred = final_model.predict(X_test_vec).tolist() #np array of predictions to list\n",
        "    accuracy = final_model.score(X_test_vec, y_test[cat])\n",
        "    predictions.append(y_pred)\n",
        "    accuracy_list.append(accuracy)\n",
        "    print(\"Class\",cat,\"-> Accuracy score = \",accuracy)"
      ],
      "execution_count": 51,
      "outputs": [
        {
          "output_type": "stream",
          "text": [
            "Class toxic -> Accuracy score =  0.38904703455120004\n",
            "Class severe_toxic -> Accuracy score =  0.41516936094643647\n",
            "Class obscene -> Accuracy score =  0.4009623671358805\n",
            "Class threat -> Accuracy score =  0.41634457183150086\n",
            "Class insult -> Accuracy score =  0.399186492909561\n",
            "Class identity_hate -> Accuracy score =  0.4134130735682014\n"
          ],
          "name": "stdout"
        }
      ]
    },
    {
      "cell_type": "code",
      "metadata": {
        "id": "FHeLwIcHLCDt",
        "outputId": "fc890c92-e6d5-4c7a-fdf3-5b2663f689d5",
        "colab": {
          "base_uri": "https://localhost:8080/",
          "height": 34
        }
      },
      "source": [
        "print(\"Average Accuracy:\",np.mean(accuracy_list))"
      ],
      "execution_count": 52,
      "outputs": [
        {
          "output_type": "stream",
          "text": [
            "Average Accuracy: 0.40568715015713\n"
          ],
          "name": "stdout"
        }
      ]
    },
    {
      "cell_type": "code",
      "metadata": {
        "id": "aQbifjirLHMm",
        "outputId": "45695dda-a0fc-4ed4-bf91-85db76a534df",
        "colab": {
          "base_uri": "https://localhost:8080/",
          "height": 195
        }
      },
      "source": [
        "sample.head()"
      ],
      "execution_count": 53,
      "outputs": [
        {
          "output_type": "execute_result",
          "data": {
            "text/html": [
              "<div>\n",
              "<style scoped>\n",
              "    .dataframe tbody tr th:only-of-type {\n",
              "        vertical-align: middle;\n",
              "    }\n",
              "\n",
              "    .dataframe tbody tr th {\n",
              "        vertical-align: top;\n",
              "    }\n",
              "\n",
              "    .dataframe thead th {\n",
              "        text-align: right;\n",
              "    }\n",
              "</style>\n",
              "<table border=\"1\" class=\"dataframe\">\n",
              "  <thead>\n",
              "    <tr style=\"text-align: right;\">\n",
              "      <th></th>\n",
              "      <th>id</th>\n",
              "      <th>toxic</th>\n",
              "      <th>severe_toxic</th>\n",
              "      <th>obscene</th>\n",
              "      <th>threat</th>\n",
              "      <th>insult</th>\n",
              "      <th>identity_hate</th>\n",
              "    </tr>\n",
              "  </thead>\n",
              "  <tbody>\n",
              "    <tr>\n",
              "      <th>0</th>\n",
              "      <td>00001cee341fdb12</td>\n",
              "      <td>0.5</td>\n",
              "      <td>0.5</td>\n",
              "      <td>0.5</td>\n",
              "      <td>0.5</td>\n",
              "      <td>0.5</td>\n",
              "      <td>0.5</td>\n",
              "    </tr>\n",
              "    <tr>\n",
              "      <th>1</th>\n",
              "      <td>0000247867823ef7</td>\n",
              "      <td>0.5</td>\n",
              "      <td>0.5</td>\n",
              "      <td>0.5</td>\n",
              "      <td>0.5</td>\n",
              "      <td>0.5</td>\n",
              "      <td>0.5</td>\n",
              "    </tr>\n",
              "    <tr>\n",
              "      <th>2</th>\n",
              "      <td>00013b17ad220c46</td>\n",
              "      <td>0.5</td>\n",
              "      <td>0.5</td>\n",
              "      <td>0.5</td>\n",
              "      <td>0.5</td>\n",
              "      <td>0.5</td>\n",
              "      <td>0.5</td>\n",
              "    </tr>\n",
              "    <tr>\n",
              "      <th>3</th>\n",
              "      <td>00017563c3f7919a</td>\n",
              "      <td>0.5</td>\n",
              "      <td>0.5</td>\n",
              "      <td>0.5</td>\n",
              "      <td>0.5</td>\n",
              "      <td>0.5</td>\n",
              "      <td>0.5</td>\n",
              "    </tr>\n",
              "    <tr>\n",
              "      <th>4</th>\n",
              "      <td>00017695ad8997eb</td>\n",
              "      <td>0.5</td>\n",
              "      <td>0.5</td>\n",
              "      <td>0.5</td>\n",
              "      <td>0.5</td>\n",
              "      <td>0.5</td>\n",
              "      <td>0.5</td>\n",
              "    </tr>\n",
              "  </tbody>\n",
              "</table>\n",
              "</div>"
            ],
            "text/plain": [
              "                 id  toxic  severe_toxic  ...  threat  insult  identity_hate\n",
              "0  00001cee341fdb12    0.5           0.5  ...     0.5     0.5            0.5\n",
              "1  0000247867823ef7    0.5           0.5  ...     0.5     0.5            0.5\n",
              "2  00013b17ad220c46    0.5           0.5  ...     0.5     0.5            0.5\n",
              "3  00017563c3f7919a    0.5           0.5  ...     0.5     0.5            0.5\n",
              "4  00017695ad8997eb    0.5           0.5  ...     0.5     0.5            0.5\n",
              "\n",
              "[5 rows x 7 columns]"
            ]
          },
          "metadata": {
            "tags": []
          },
          "execution_count": 53
        }
      ]
    },
    {
      "cell_type": "code",
      "metadata": {
        "id": "1zak3F3TLKhG"
      },
      "source": [
        "test_result = pd.DataFrame({'id':X_test['id'],'toxic':predictions[0],'severe_toxic':predictions[1],'obscene':predictions[2],'threat':predictions[3],'insult':predictions[4],'identity_hate':predictions[5]})"
      ],
      "execution_count": 54,
      "outputs": []
    },
    {
      "cell_type": "code",
      "metadata": {
        "id": "J81x2mxaLRKX",
        "outputId": "1f366852-32c1-4738-b466-160a44dfa247",
        "colab": {
          "base_uri": "https://localhost:8080/",
          "height": 195
        }
      },
      "source": [
        "test_result.head()"
      ],
      "execution_count": 55,
      "outputs": [
        {
          "output_type": "execute_result",
          "data": {
            "text/html": [
              "<div>\n",
              "<style scoped>\n",
              "    .dataframe tbody tr th:only-of-type {\n",
              "        vertical-align: middle;\n",
              "    }\n",
              "\n",
              "    .dataframe tbody tr th {\n",
              "        vertical-align: top;\n",
              "    }\n",
              "\n",
              "    .dataframe thead th {\n",
              "        text-align: right;\n",
              "    }\n",
              "</style>\n",
              "<table border=\"1\" class=\"dataframe\">\n",
              "  <thead>\n",
              "    <tr style=\"text-align: right;\">\n",
              "      <th></th>\n",
              "      <th>id</th>\n",
              "      <th>toxic</th>\n",
              "      <th>severe_toxic</th>\n",
              "      <th>obscene</th>\n",
              "      <th>threat</th>\n",
              "      <th>insult</th>\n",
              "      <th>identity_hate</th>\n",
              "    </tr>\n",
              "  </thead>\n",
              "  <tbody>\n",
              "    <tr>\n",
              "      <th>0</th>\n",
              "      <td>00001cee341fdb12</td>\n",
              "      <td>1</td>\n",
              "      <td>0</td>\n",
              "      <td>1</td>\n",
              "      <td>0</td>\n",
              "      <td>0</td>\n",
              "      <td>0</td>\n",
              "    </tr>\n",
              "    <tr>\n",
              "      <th>1</th>\n",
              "      <td>0000247867823ef7</td>\n",
              "      <td>0</td>\n",
              "      <td>0</td>\n",
              "      <td>0</td>\n",
              "      <td>0</td>\n",
              "      <td>0</td>\n",
              "      <td>0</td>\n",
              "    </tr>\n",
              "    <tr>\n",
              "      <th>2</th>\n",
              "      <td>00013b17ad220c46</td>\n",
              "      <td>0</td>\n",
              "      <td>0</td>\n",
              "      <td>0</td>\n",
              "      <td>0</td>\n",
              "      <td>0</td>\n",
              "      <td>0</td>\n",
              "    </tr>\n",
              "    <tr>\n",
              "      <th>3</th>\n",
              "      <td>00017563c3f7919a</td>\n",
              "      <td>0</td>\n",
              "      <td>0</td>\n",
              "      <td>0</td>\n",
              "      <td>0</td>\n",
              "      <td>0</td>\n",
              "      <td>0</td>\n",
              "    </tr>\n",
              "    <tr>\n",
              "      <th>4</th>\n",
              "      <td>00017695ad8997eb</td>\n",
              "      <td>0</td>\n",
              "      <td>0</td>\n",
              "      <td>0</td>\n",
              "      <td>0</td>\n",
              "      <td>0</td>\n",
              "      <td>0</td>\n",
              "    </tr>\n",
              "  </tbody>\n",
              "</table>\n",
              "</div>"
            ],
            "text/plain": [
              "                 id  toxic  severe_toxic  ...  threat  insult  identity_hate\n",
              "0  00001cee341fdb12      1             0  ...       0       0              0\n",
              "1  0000247867823ef7      0             0  ...       0       0              0\n",
              "2  00013b17ad220c46      0             0  ...       0       0              0\n",
              "3  00017563c3f7919a      0             0  ...       0       0              0\n",
              "4  00017695ad8997eb      0             0  ...       0       0              0\n",
              "\n",
              "[5 rows x 7 columns]"
            ]
          },
          "metadata": {
            "tags": []
          },
          "execution_count": 55
        }
      ]
    },
    {
      "cell_type": "code",
      "metadata": {
        "id": "iI_ErgkwLZUd"
      },
      "source": [
        "# Export to csv\n",
        "test_result.to_csv('submit.csv')"
      ],
      "execution_count": 56,
      "outputs": []
    },
    {
      "cell_type": "markdown",
      "metadata": {
        "id": "308UgBnomBNC"
      },
      "source": [
        "* Saving the final model in pickle file"
      ]
    },
    {
      "cell_type": "code",
      "metadata": {
        "id": "zZ4nbCGzmGLt"
      },
      "source": [
        "import pickle"
      ],
      "execution_count": 57,
      "outputs": []
    },
    {
      "cell_type": "code",
      "metadata": {
        "id": "lF3Y3RvJmHqx"
      },
      "source": [
        "pickle.dump(final_model, open('Final_Model.pkl', 'wb'))"
      ],
      "execution_count": 58,
      "outputs": []
    }
  ]
}